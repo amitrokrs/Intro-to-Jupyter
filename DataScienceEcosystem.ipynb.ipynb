{
 "cells": [
  {
   "cell_type": "markdown",
   "id": "7d85d4f6-52b9-438d-b10a-7293e1a8fe5c",
   "metadata": {},
   "source": [
    "<h1>Data Science Tools and Ecosystem</h1>"
   ]
  },
  {
   "cell_type": "markdown",
   "id": "6d9178b9-a16f-4361-8798-5e94771a39c6",
   "metadata": {},
   "source": [
    "In this notebook, Data Science Tools and Ecosystem are summarized.\n"
   ]
  },
  {
   "cell_type": "markdown",
   "id": "4877d81f-bd97-402f-a0fb-5d1358c844fc",
   "metadata": {},
   "source": [
    "***Objectives:***\n",
    "- List popular languages used in Data Science\n",
    "- List commonly used libraries in Data Science\n",
    "- List commonly used Tools in Data Science\n",
    "- Show examples of Arthemetic expressions in Python\n"
   ]
  },
  {
   "cell_type": "markdown",
   "id": "c1a17f68-1f8d-4404-a927-b3d50d85999f",
   "metadata": {},
   "source": [
    "Some of the popular languages that Data Scientists use are:\n",
    "1. Python\n",
    "2. R\n",
    "3. Julia"
   ]
  },
  {
   "cell_type": "markdown",
   "id": "cef29f02-d5be-4ea5-8d7f-6604ef9076f9",
   "metadata": {},
   "source": [
    "Some of the commonly used libraries used by Data Scientists include:\n",
    "1. Numpy\n",
    "2. Panda\n",
    "3. Matplotib\n",
    "4. SciPy\n",
    "5. Plotly"
   ]
  },
  {
   "cell_type": "markdown",
   "id": "05a33228-b358-4b80-bd65-122a96b07e19",
   "metadata": {},
   "source": [
    "| Data Science Tools |\n",
    "|--------------------|\n",
    "|Jupyter Notebook|\n",
    "|Github|\n",
    "|MySQL|\n"
   ]
  },
  {
   "cell_type": "markdown",
   "id": "a04d7007-3a4a-4eeb-badc-da0edf06538e",
   "metadata": {},
   "source": [
    "<h3>Below are a few examples of evaluating arithmetic expressions in Python</h3>\n",
    "2+2 <br>\n",
    "3*5 <br>\n",
    "4-1 <br>\n",
    "6//7"
   ]
  },
  {
   "cell_type": "code",
   "execution_count": 1,
   "id": "8b41b6b7-43ed-4131-b807-29f03b4ed9e4",
   "metadata": {
    "tags": []
   },
   "outputs": [
    {
     "data": {
      "text/plain": [
       "17"
      ]
     },
     "execution_count": 1,
     "metadata": {},
     "output_type": "execute_result"
    }
   ],
   "source": [
    "#This a simple arithmetic expression to mutiply then add integers\n",
    "(3*4)+5"
   ]
  },
  {
   "cell_type": "code",
   "execution_count": 2,
   "id": "2a187021-9bda-47e4-a701-10ce2d00c5aa",
   "metadata": {
    "tags": []
   },
   "outputs": [
    {
     "data": {
      "text/plain": [
       "3"
      ]
     },
     "execution_count": 2,
     "metadata": {},
     "output_type": "execute_result"
    }
   ],
   "source": [
    "#This will convert 200 minutes to hours by diving by 60\n",
    "200//60"
   ]
  },
  {
   "cell_type": "markdown",
   "id": "221573a8-b92b-4fe4-a981-9d7d49b63fb5",
   "metadata": {},
   "source": [
    "<h2>Author</h2>\n",
    "Amit Kumar Yadav"
   ]
  },
  {
   "cell_type": "code",
   "execution_count": null,
   "id": "e4119ff8-a1b9-4f5c-b6df-467613a9d4e1",
   "metadata": {},
   "outputs": [],
   "source": []
  }
 ],
 "metadata": {
  "kernelspec": {
   "display_name": "Python",
   "language": "python",
   "name": "conda-env-python-py"
  },
  "language_info": {
   "codemirror_mode": {
    "name": "ipython",
    "version": 3
   },
   "file_extension": ".py",
   "mimetype": "text/x-python",
   "name": "python",
   "nbconvert_exporter": "python",
   "pygments_lexer": "ipython3",
   "version": "3.7.12"
  }
 },
 "nbformat": 4,
 "nbformat_minor": 5
}
